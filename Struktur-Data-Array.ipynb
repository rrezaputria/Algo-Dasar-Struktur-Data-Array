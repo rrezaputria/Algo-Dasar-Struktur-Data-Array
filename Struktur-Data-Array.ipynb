{
 "cells": [
  {
   "cell_type": "markdown",
   "id": "01c80db9",
   "metadata": {},
   "source": [
    "A. Array Berdimensi 1"
   ]
  },
  {
   "cell_type": "markdown",
   "id": "98ba0630",
   "metadata": {},
   "source": [
    "1. Mencari Nilai Maksimum dan Nilai Minimum dari Suatu Himpunan Bilangan"
   ]
  },
  {
   "cell_type": "code",
   "execution_count": 4,
   "id": "0351a0e6",
   "metadata": {},
   "outputs": [
    {
     "name": "stdout",
     "output_type": "stream",
     "text": [
      "Di peroleh nilai maksimum dari bilangan sebesar :  9\n",
      "Di peroleh nilai minimum dari bilangan sebesar :  -11\n"
     ]
    }
   ],
   "source": [
    "def main():\n",
    "    bil = [-5, -4, 3, 7, 8, 6, -2, 1, 9, -11, -10]\n",
    "    \n",
    "    maksimum = bil[0]\n",
    "    minimum = bil[0]\n",
    "    \n",
    "    for i in range(1,len(bil)):\n",
    "        if(bil[i]>maksimum):\n",
    "            maksimum = bil[i]\n",
    "        if(bil[i]<minimum):\n",
    "            minimum = bil[i]\n",
    "            \n",
    "    print(\"Di peroleh nilai maksimum dari bilangan sebesar : \", maksimum)\n",
    "    print(\"Di peroleh nilai minimum dari bilangan sebesar : \", minimum)\n",
    "    \n",
    "main()"
   ]
  },
  {
   "cell_type": "markdown",
   "id": "6f39def6",
   "metadata": {},
   "source": [
    "2. Mencari Hasil Ascending dan Hasil Descending dari Suatu Himpunan Bilangan"
   ]
  },
  {
   "cell_type": "code",
   "execution_count": 13,
   "id": "194b58b7",
   "metadata": {},
   "outputs": [
    {
     "name": "stdout",
     "output_type": "stream",
     "text": [
      "Di peroleh hasil ascending dari bilangan, yakni :  [-11, -10, -5, -4, -2, 1, 3, 6, 7, 8, 9]\n",
      "Di peroleh hasil descending dari bilangan, yakni :  [9, 8, 7, 6, 3, 1, -2, -4, -5, -10, -11]\n"
     ]
    }
   ],
   "source": [
    "def main ():\n",
    "    bil = [-5, -4, 3, 7, 8, 6, -2, 1, 9, -11, -10]\n",
    "    \n",
    "    n = len(bil)\n",
    "    \n",
    "    for i in range(n):\n",
    "        for j in range(n-i-1):\n",
    "            if bil[j]>bil[j+1]:\n",
    "                temp = bil[j]\n",
    "                bil[j] = bil[j+1]\n",
    "                bil[j+1] = temp\n",
    "    print(\"Di peroleh hasil ascending dari bilangan, yakni : \", bil)\n",
    "    \n",
    "    for i in range(n):\n",
    "        for j in range(n-i-1):\n",
    "            if bil[j]<bil[j+1]:\n",
    "                temp = bil[j]\n",
    "                bil[j] = bil[j+1]\n",
    "                bil[j+1] = temp\n",
    "    print(\"Di peroleh hasil descending dari bilangan, yakni : \", bil)\n",
    "\n",
    "main()"
   ]
  },
  {
   "cell_type": "markdown",
   "id": "08a0ca90",
   "metadata": {},
   "source": [
    "B. Array Berdimensi 2"
   ]
  },
  {
   "cell_type": "markdown",
   "id": "9c5cf6bb",
   "metadata": {},
   "source": [
    "1. Menghitung Indeks Presentasi Semester"
   ]
  },
  {
   "cell_type": "code",
   "execution_count": 12,
   "id": "dad371be",
   "metadata": {},
   "outputs": [
    {
     "name": "stdout",
     "output_type": "stream",
     "text": [
      "Masukkan jumlah total mata kuliah : 5\n",
      "Masukkan indeks nilai mata kuliah 1 : A\n",
      "Masukkan jam mata kuliah : 2\n",
      "Masukkan indeks nilai mata kuliah 2 : BC\n",
      "Masukkan jam mata kuliah : 2\n",
      "Masukkan indeks nilai mata kuliah 3 : B\n",
      "Masukkan jam mata kuliah : 3\n",
      "Masukkan indeks nilai mata kuliah 4 : AB\n",
      "Masukkan jam mata kuliah : 3\n",
      "Masukkan indeks nilai mata kuliah 5 : C\n",
      "Masukkan jam mata kuliah : 3\n",
      "Di peroleh hasil Indeks Presentasi Semester, sebesar : 2.96\n"
     ]
    }
   ],
   "source": [
    "def main():\n",
    "    size = int(input(\"Masukkan jumlah total mata kuliah : \"))\n",
    "    arr1 = []\n",
    "    for i in range(size):\n",
    "        arr2 = []\n",
    "        arr2.append(input(\"Masukkan indeks nilai mata kuliah %d : \"%(i+1)))\n",
    "        arr2.append(int(input(\"Masukkan jam mata kuliah : \")))\n",
    "        arr1.append(arr2)\n",
    "        \n",
    "    ips = 0\n",
    "    jam = 0\n",
    "    \n",
    "    for j in range(size):\n",
    "        for k in range(size):\n",
    "            if arr1[j][0] == \"A\":\n",
    "                ips += (4*arr1[j][1])\n",
    "            elif arr1[j][0] == \"BC\":\n",
    "                ips += (2.5*arr1[j][1])\n",
    "            elif arr1[j][0] == \"B\":\n",
    "                ips += (3*arr1[j][1])\n",
    "            elif arr1[j][0] == \"AB\":\n",
    "                ips += (3.5*arr1[j][1])\n",
    "            elif arr1[j][0] == \"C\":\n",
    "                ips += (2*arr1[j][1])\n",
    "            \n",
    "            jam = jam + arr1[j][1]\n",
    "            \n",
    "    ips = ips / jam\n",
    "    \n",
    "    print(\"Di peroleh hasil Indeks Presentasi Semester, sebesar : %.2f\"%ips)\n",
    "    \n",
    "main()"
   ]
  },
  {
   "cell_type": "markdown",
   "id": "89289707",
   "metadata": {},
   "source": [
    "2. Membuat Huruf B Dengan Ukuran 8x8"
   ]
  },
  {
   "cell_type": "code",
   "execution_count": 4,
   "id": "59841bd5",
   "metadata": {},
   "outputs": [
    {
     "name": "stdout",
     "output_type": "stream",
     "text": [
      "******  \n",
      "*    *  \n",
      "*    *  \n",
      "******* \n",
      "**    * \n",
      "**    * \n",
      "******* \n",
      "        \n"
     ]
    }
   ],
   "source": [
    "Huruf_B = [[1, 1, 1, 1, 1, 1, 0, 0],\n",
    "          [1, 0, 0, 0, 0, 1, 0, 0],\n",
    "          [1, 0, 0, 0, 0, 1, 0, 0],\n",
    "          [1, 1, 1, 1, 1, 1, 1, 0],\n",
    "          [1, 1, 0, 0, 0, 0, 1, 0],\n",
    "          [1, 1, 0, 0, 0, 0, 1, 0],\n",
    "          [1, 1, 1, 1, 1, 1, 1, 0],\n",
    "          [0, 0, 0, 0, 0, 0, 0, 0]]\n",
    "\n",
    "for i in range(0,len(Huruf_B)):\n",
    "    for j in range(0,len(Huruf_B)):\n",
    "        if(Huruf_B[i][j]!=0):\n",
    "            print(\"*\", end=\"\")\n",
    "        else:\n",
    "            print(\" \", end=\"\")\n",
    "    print(\"\\n\", end=\"\")"
   ]
  },
  {
   "cell_type": "markdown",
   "id": "142d7f54",
   "metadata": {},
   "source": [
    "C. Struktur Dasar Array Multidimensi"
   ]
  },
  {
   "cell_type": "markdown",
   "id": "9d01d075",
   "metadata": {},
   "source": [
    "1. Array Dinamis Berdimensi-3"
   ]
  },
  {
   "cell_type": "code",
   "execution_count": 14,
   "id": "03b57747",
   "metadata": {
    "scrolled": true
   },
   "outputs": [
    {
     "name": "stdout",
     "output_type": "stream",
     "text": [
      "Input row ke : 1\n",
      "Masukkan subrow tiap row : \n",
      "2\n",
      "Masukan elemen - elemen pada tiap subrow : \n",
      "1 1 1\n",
      "Masukan elemen - elemen pada tiap subrow : \n",
      "2 2 2\n",
      "Input row berikutnya ? Ya / Tidak\n",
      "Ya\n",
      "Masukan elemen - elemen pada tiap subrow : \n",
      "4 4 4\n",
      "Masukan elemen - elemen pada tiap subrow : \n",
      "5 5 5\n",
      "Input row berikutnya ? Ya / Tidak\n",
      "Tidak\n",
      "Selesai\n",
      "Di peroleh hasil array berdimensi 3, yakni : \n",
      "[[[1, 1, 1], [2, 2, 2]], [[4, 4, 4], [5, 5, 5]]]\n"
     ]
    }
   ],
   "source": [
    "print(\"Input row ke : 1\")\n",
    "print(\"Masukkan subrow tiap row : \")\n",
    "size = int(input())\n",
    "array_input = []\n",
    "\n",
    "while True :\n",
    "    array = []\n",
    "    for i in range(size):\n",
    "        print(\"Masukan elemen - elemen pada tiap subrow : \")\n",
    "        array.append([int(y) for y in input().split()])\n",
    "    array_input.append(array)\n",
    "    print(\"Input row berikutnya ? Ya / Tidak\")\n",
    "    lanjut = input()\n",
    "    if lanjut == \"Tidak\":\n",
    "        print(\"Selesai\")\n",
    "        break\n",
    "        \n",
    "print(\"Di peroleh hasil array berdimensi 3, yakni : \")\n",
    "print(array_input)"
   ]
  }
 ],
 "metadata": {
  "kernelspec": {
   "display_name": "Python 3 (ipykernel)",
   "language": "python",
   "name": "python3"
  },
  "language_info": {
   "codemirror_mode": {
    "name": "ipython",
    "version": 3
   },
   "file_extension": ".py",
   "mimetype": "text/x-python",
   "name": "python",
   "nbconvert_exporter": "python",
   "pygments_lexer": "ipython3",
   "version": "3.9.12"
  }
 },
 "nbformat": 4,
 "nbformat_minor": 5
}
